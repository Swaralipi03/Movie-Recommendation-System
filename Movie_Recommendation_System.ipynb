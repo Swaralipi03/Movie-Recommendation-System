{
  "nbformat": 4,
  "nbformat_minor": 0,
  "metadata": {
    "colab": {
      "provenance": [],
      "authorship_tag": "ABX9TyPoIQIXc4ICe5gY07aG9btN",
      "include_colab_link": true
    },
    "kernelspec": {
      "name": "python3",
      "display_name": "Python 3"
    },
    "language_info": {
      "name": "python"
    }
  },
  "cells": [
    {
      "cell_type": "markdown",
      "metadata": {
        "id": "view-in-github",
        "colab_type": "text"
      },
      "source": [
        "<a href=\"https://colab.research.google.com/github/Swaralipi03/Movie-Recommendation-System/blob/main/Movie_Recommendation_System.ipynb\" target=\"_parent\"><img src=\"https://colab.research.google.com/assets/colab-badge.svg\" alt=\"Open In Colab\"/></a>"
      ]
    },
    {
      "cell_type": "code",
      "source": [
        "import pandas as pd\n",
        "from sklearn.feature_extraction.text import TfidfVectorizer\n",
        "from sklearn.metrics.pairwise import cosine_similarity"
      ],
      "metadata": {
        "id": "a0uQLXpO_pnS"
      },
      "execution_count": 6,
      "outputs": []
    },
    {
      "cell_type": "code",
      "source": [
        "def recommend_movies_by_genre(user_genre, df, top_n=5):\n",
        "    df = df.dropna(subset=['Genre'])\n",
        "    tfidf = TfidfVectorizer(stop_words='english')\n",
        "    genre_matrix = tfidf.fit_transform(df['Genre'])\n",
        "\n",
        "    user_genre_vector = tfidf.transform([user_genre])\n",
        "    similarities = cosine_similarity(user_genre_vector, genre_matrix).flatten()\n",
        "\n",
        "    top_indices = similarities.argsort()[-top_n:][::-1]\n",
        "    return df.iloc[top_indices][['Movie', 'Genre', 'Rating']]\n"
      ],
      "metadata": {
        "id": "282509g1_u8v"
      },
      "execution_count": 7,
      "outputs": []
    },
    {
      "cell_type": "code",
      "source": [
        "def recommend_similar_movies(movie_name, df, top_n=5):\n",
        "    df = df.dropna(subset=['Overview'])\n",
        "    tfidf = TfidfVectorizer(stop_words='english')\n",
        "    overview_matrix = tfidf.fit_transform(df['Overview'])\n",
        "\n",
        "    if movie_name not in df['Movie'].values:\n",
        "        print(\"Movie not found in database.\")\n",
        "        return None\n",
        "\n",
        "    movie_index = df[df['Movie'] == movie_name].index[0]\n",
        "    similarities = cosine_similarity(overview_matrix[movie_index], overview_matrix).flatten()\n",
        "\n",
        "    top_indices = similarities.argsort()[-(top_n+1):-1][::-1]\n",
        "    return df.iloc[top_indices][['Movie', 'Genre', 'Rating']]"
      ],
      "metadata": {
        "id": "1XXoTRCO_0uh"
      },
      "execution_count": 8,
      "outputs": []
    },
    {
      "cell_type": "code",
      "source": [
        "def get_top_movies(df, top_n=5):\n",
        "    return df.sort_values(by=['Rating', 'No.of.Ratings'], ascending=False).head(top_n)[['Movie', 'Genre', 'Rating']]"
      ],
      "metadata": {
        "id": "HGQst_ex_5aV"
      },
      "execution_count": 9,
      "outputs": []
    },
    {
      "cell_type": "code",
      "source": [
        "# Load dataset\n",
        "file_path = \"/content/TeluguMovies_dataset.csv\"\n",
        "df = pd.read_csv(file_path)\n"
      ],
      "metadata": {
        "id": "tAoGp5RM_8yt"
      },
      "execution_count": 10,
      "outputs": []
    },
    {
      "cell_type": "code",
      "source": [
        "def main():\n",
        "    print(\"Choose a recommendation method:\")\n",
        "    print(\"1. Recommend by Genre\")\n",
        "    print(\"2. Recommend similar movies\")\n",
        "    print(\"3. Show Top Rated Movies\")\n",
        "\n",
        "    choice = input(\"Enter choice (1/2/3): \")\n",
        "\n",
        "    if choice == '1':\n",
        "        user_genre = input(\"Enter a genre: \")\n",
        "        recommended_movies = recommend_movies_by_genre(user_genre, df)\n",
        "        print(recommended_movies)\n",
        "    elif choice == '2':\n",
        "        movie_name = input(\"Enter a movie name: \")\n",
        "        recommended_movies = recommend_similar_movies(movie_name, df)\n",
        "        print(recommended_movies)\n",
        "    elif choice == '3':\n",
        "        top_movies = get_top_movies(df)\n",
        "        print(top_movies)\n",
        "    else:\n",
        "        print(\"Invalid choice.\")\n",
        "\n",
        "if __name__ == \"__main__\":\n",
        "    main()"
      ],
      "metadata": {
        "colab": {
          "base_uri": "https://localhost:8080/"
        },
        "id": "SpMId5IcAB7Q",
        "outputId": "7556757e-d5e0-435c-9c34-e94731e9d7f3"
      },
      "execution_count": 12,
      "outputs": [
        {
          "output_type": "stream",
          "name": "stdout",
          "text": [
            "Choose a recommendation method:\n",
            "1. Recommend by Genre\n",
            "2. Recommend similar movies\n",
            "3. Show Top Rated Movies\n",
            "Enter choice (1/2/3): 2\n",
            "Enter a movie name: Murari\n",
            "                             Movie                               Genre  Rating\n",
            "311                 Dharma Chakram                   Drama                 7.1\n",
            "497                           Mass           Action, Drama                 6.4\n",
            "281              Mugguru Monagallu   Action, Comedy, Drama                 6.1\n",
            "832                 Srimannarayana                   Drama                 4.1\n",
            "812  Uu Kodathara Ulikki Padathara  Action, Drama, Fantasy                 4.9\n"
          ]
        }
      ]
    }
  ]
}